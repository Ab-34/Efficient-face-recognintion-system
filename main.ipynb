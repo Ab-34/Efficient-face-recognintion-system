{
 "cells": [
  {
   "cell_type": "code",
   "execution_count": 1,
   "metadata": {},
   "outputs": [],
   "source": [
    "import dlib\n",
    "import cv2\n",
    "import numpy as np\n",
    "import face_recognition\n",
    "import os\n",
    "from pathlib import Path\n",
    "import pandas as pd\n",
    "from PIL import Image"
   ]
  },
  {
   "cell_type": "code",
   "execution_count": 2,
   "metadata": {},
   "outputs": [],
   "source": [
    "#Function to obtain the encodings from face recognition library\n",
    "\n",
    "def get_encoding(path):\n",
    "    x=np.array(Image.open(path))\n",
    "    x=cv2.cvtColor(x,cv2.COLOR_BGR2RGB)\n",
    "    #face=face_recognition.face_locations(x)[0]\n",
    "    try:\n",
    "        enc=face_recognition.face_encodings(x)[0]\n",
    "    except:\n",
    "        enc=x\n",
    "        print(path)\n",
    "    #print(enc)\n",
    "    \n",
    "    return enc"
   ]
  },
  {
   "cell_type": "code",
   "execution_count": 3,
   "metadata": {},
   "outputs": [],
   "source": [
    "\n",
    "rootdir = Path('C:/c_program/face/img')\n",
    "l=[]\n",
    "df = pd.DataFrame(columns = ['x', 'label'])\n",
    "  \n",
    "\n",
    "#apeending the image paths to a list    \n",
    "for root, subdirectories, files in os.walk(rootdir):\n",
    "    for file in files:\n",
    "        x=os.path.join(root, file)\n",
    "        l.append(x)\n",
    "        \n",
    "        \n"
   ]
  },
  {
   "cell_type": "code",
   "execution_count": 4,
   "metadata": {},
   "outputs": [],
   "source": [
    "#Obtaining the features and adding them to a dataframe\n",
    "for i in l:\n",
    "        p=i.split(\"\\\\\")\n",
    "        \n",
    "        enc=get_encoding(i)\n",
    "        #print(p[4])\n",
    "        df=df.append({'x' : enc, 'label' : p[4]},  \n",
    "                ignore_index = True)"
   ]
  },
  {
   "cell_type": "code",
   "execution_count": 5,
   "metadata": {},
   "outputs": [
    {
     "name": "stdout",
     "output_type": "stream",
     "text": [
      "                                                     x                  label\n",
      "0    [-0.03787478804588318, 0.2088412493467331, 0.1...  Arnold_Schwarzenegger\n",
      "1    [-0.06490906327962875, 0.19593630731105804, 0....  Arnold_Schwarzenegger\n",
      "2    [-0.033288076519966125, 0.23150882124900818, 0...  Arnold_Schwarzenegger\n",
      "3    [-0.009613871574401855, 0.1634233295917511, 0....  Arnold_Schwarzenegger\n",
      "4    [-0.06668805330991745, 0.16968196630477905, 0....  Arnold_Schwarzenegger\n",
      "..                                                 ...                    ...\n",
      "143  [-0.009106200188398361, 0.16770702600479126, 0...         Vladimir_Putin\n",
      "144  [-0.009661173447966576, 0.18971280753612518, 0...         Vladimir_Putin\n",
      "145  [-0.017986586317420006, 0.08232659101486206, 0...         Vladimir_Putin\n",
      "146  [0.04461508244276047, 0.08460748195648193, 0.0...         Vladimir_Putin\n",
      "147  [-0.0066591366194188595, 0.12526565790176392, ...         Vladimir_Putin\n",
      "\n",
      "[148 rows x 2 columns]\n"
     ]
    },
    {
     "data": {
      "text/plain": [
       "array([0, 1, 2, 3, 4])"
      ]
     },
     "execution_count": 5,
     "metadata": {},
     "output_type": "execute_result"
    }
   ],
   "source": [
    "#Transforming labels into numbers\n",
    "print(df)\n",
    "from sklearn import preprocessing \n",
    "df['label'].unique() \n",
    "\n",
    "# label_encoder object knows how to understand word labels. \n",
    "label_encoder = preprocessing.LabelEncoder() \n",
    "  \n",
    "# Encode labels in column 'label'. \n",
    "df['label']= label_encoder.fit_transform(df['label']) \n",
    "  \n",
    "df['label'].unique()"
   ]
  },
  {
   "cell_type": "code",
   "execution_count": 6,
   "metadata": {},
   "outputs": [],
   "source": [
    "#Saving the dataset \n",
    "df.to_csv('file1.csv', index=False) "
   ]
  },
  {
   "cell_type": "code",
   "execution_count": 7,
   "metadata": {},
   "outputs": [
    {
     "name": "stdout",
     "output_type": "stream",
     "text": [
      "                                                     x  label\n",
      "0    [-0.03787479  0.20884125  0.11381891 -0.073479...      0\n",
      "1    [-6.49090633e-02  1.95936307e-01  9.58812609e-...      0\n",
      "2    [-3.32880765e-02  2.31508821e-01  1.84001014e-...      0\n",
      "3    [-0.00961387  0.16342333  0.09833182 -0.039257...      0\n",
      "4    [-0.06668805  0.16968197  0.14714023 -0.037930...      0\n",
      "..                                                 ...    ...\n",
      "143  [-0.0091062   0.16770703  0.04390327 -0.045627...      4\n",
      "144  [-0.00966117  0.18971281  0.04138543 -0.060494...      4\n",
      "145  [-0.01798659  0.08232659  0.02026807 -0.058085...      4\n",
      "146  [ 0.04461508  0.08460748  0.02434039 -0.068727...      4\n",
      "147  [-6.65913662e-03  1.25265658e-01  8.69285986e-...      4\n",
      "\n",
      "[148 rows x 2 columns]\n",
      "[[-3.78747880e-02  2.08841249e-01  1.13818914e-01 ... -9.21863019e-02\n",
      "   7.38245174e-02  4.08274271e-02]\n",
      " [-6.49090633e-02  1.95936307e-01  9.58812609e-02 ... -4.86369506e-02\n",
      "   6.56304806e-02  6.15514219e-02]\n",
      " [-3.32880765e-02  2.31508821e-01  1.84001014e-01 ... -4.78299446e-02\n",
      "   1.05091192e-01  9.69925895e-05]\n",
      " ...\n",
      " [-1.79865863e-02  8.23265910e-02  2.02680677e-02 ...  1.48316771e-02\n",
      "  -1.76296197e-03  7.33978376e-02]\n",
      " [ 4.46150824e-02  8.46074820e-02  2.43403874e-02 ... -1.55001134e-03\n",
      "   1.65996142e-02  8.84462595e-02]\n",
      " [-6.65913662e-03  1.25265658e-01  8.69285986e-02 ... -2.22847797e-04\n",
      "   6.63339198e-02  8.44582394e-02]]\n"
     ]
    }
   ],
   "source": [
    "#Obtaining arrays to pass through ANN\n",
    "dataset = pd.read_csv('file1.csv')\n",
    "x=[]\n",
    "y=[]\n",
    "#print(dataset)\n",
    "for ind in df.index: \n",
    "    l=list(df['x'][ind])\n",
    "    x.append(l)\n",
    "    y.append(df['label'][ind])\n",
    "x=np.array(x)\n",
    "y=np.array(y)\n",
    "#print(x)"
   ]
  },
  {
   "cell_type": "code",
   "execution_count": 8,
   "metadata": {},
   "outputs": [
    {
     "name": "stdout",
     "output_type": "stream",
     "text": [
      "(118, 128)\n",
      "(118,)\n"
     ]
    }
   ],
   "source": [
    "#Splitting data into train and test\n",
    "from sklearn.model_selection import train_test_split\n",
    "X_train, X_test, y_train, y_test = train_test_split(x, y, test_size = 0.2, random_state = 0)\n",
    "print(X_train.shape)\n",
    "print(y_train.shape)"
   ]
  },
  {
   "cell_type": "code",
   "execution_count": 9,
   "metadata": {},
   "outputs": [
    {
     "name": "stdout",
     "output_type": "stream",
     "text": [
      "(118, 128)\n",
      "(118,)\n"
     ]
    }
   ],
   "source": [
    "#Feature scaling\n",
    "from sklearn.preprocessing import StandardScaler\n",
    "sc = StandardScaler()\n",
    "X_train = sc.fit_transform(X_train)\n",
    "\n",
    "X_test = sc.transform(X_test)\n",
    "print(X_train.shape)\n",
    "print(y_train.shape)"
   ]
  },
  {
   "cell_type": "code",
   "execution_count": 12,
   "metadata": {},
   "outputs": [
    {
     "name": "stdout",
     "output_type": "stream",
     "text": [
      "Model: \"sequential_1\"\n",
      "_________________________________________________________________\n",
      "Layer (type)                 Output Shape              Param #   \n",
      "=================================================================\n",
      "dense_2 (Dense)              (None, 128)               16512     \n",
      "_________________________________________________________________\n",
      "dropout_1 (Dropout)          (None, 128)               0         \n",
      "_________________________________________________________________\n",
      "dense_3 (Dense)              (None, 5)                 645       \n",
      "=================================================================\n",
      "Total params: 17,157\n",
      "Trainable params: 17,157\n",
      "Non-trainable params: 0\n",
      "_________________________________________________________________\n"
     ]
    }
   ],
   "source": [
    "#Creating a badic ANN model\n",
    "import tensorflow as tf\n",
    "ann = tf.keras.models.Sequential()\n",
    "ann.add(tf.keras.layers.Dense(units = 128, activation = 'relu', input_shape = (128,)))\n",
    "ann.add(tf.keras.layers.Dropout(0.2))\n",
    "ann.add(tf.keras.layers.Dense(units=5, activation='softmax'))\n",
    "ann.summary()"
   ]
  },
  {
   "cell_type": "code",
   "execution_count": 13,
   "metadata": {},
   "outputs": [
    {
     "name": "stdout",
     "output_type": "stream",
     "text": [
      "Epoch 1/15\n",
      "4/4 [==============================] - 0s 1ms/step - loss: 1.6448 - accuracy: 0.3475\n",
      "Epoch 2/15\n",
      "4/4 [==============================] - 0s 1ms/step - loss: 0.8369 - accuracy: 0.7203\n",
      "Epoch 3/15\n",
      "4/4 [==============================] - 0s 1ms/step - loss: 0.4390 - accuracy: 0.9153\n",
      "Epoch 4/15\n",
      "4/4 [==============================] - 0s 2ms/step - loss: 0.1977 - accuracy: 0.9746\n",
      "Epoch 5/15\n",
      "4/4 [==============================] - 0s 1ms/step - loss: 0.1400 - accuracy: 0.9831\n",
      "Epoch 6/15\n",
      "4/4 [==============================] - 0s 1ms/step - loss: 0.0748 - accuracy: 0.9915\n",
      "Epoch 7/15\n",
      "4/4 [==============================] - 0s 2ms/step - loss: 0.0478 - accuracy: 1.0000\n",
      "Epoch 8/15\n",
      "4/4 [==============================] - 0s 1ms/step - loss: 0.0360 - accuracy: 1.0000\n",
      "Epoch 9/15\n",
      "4/4 [==============================] - 0s 2ms/step - loss: 0.0249 - accuracy: 1.0000\n",
      "Epoch 10/15\n",
      "4/4 [==============================] - 0s 1ms/step - loss: 0.0215 - accuracy: 1.0000\n",
      "Epoch 11/15\n",
      "4/4 [==============================] - 0s 2ms/step - loss: 0.0159 - accuracy: 1.0000\n",
      "Epoch 12/15\n",
      "4/4 [==============================] - 0s 1ms/step - loss: 0.0136 - accuracy: 1.0000\n",
      "Epoch 13/15\n",
      "4/4 [==============================] - 0s 1ms/step - loss: 0.0132 - accuracy: 1.0000\n",
      "Epoch 14/15\n",
      "4/4 [==============================] - 0s 2ms/step - loss: 0.0138 - accuracy: 1.0000\n",
      "Epoch 15/15\n",
      "4/4 [==============================] - 0s 1ms/step - loss: 0.0112 - accuracy: 1.0000\n"
     ]
    },
    {
     "data": {
      "text/plain": [
       "<tensorflow.python.keras.callbacks.History at 0x23ecc3bef88>"
      ]
     },
     "execution_count": 13,
     "metadata": {},
     "output_type": "execute_result"
    }
   ],
   "source": [
    "#Training the model\n",
    "ann.compile(optimizer = 'adam', loss = 'sparse_categorical_crossentropy', metrics = ['accuracy'])\n",
    "ann.fit(X_train, y_train, batch_size = 32, epochs = 15)"
   ]
  },
  {
   "cell_type": "code",
   "execution_count": 15,
   "metadata": {
    "collapsed": true
   },
   "outputs": [
    {
     "name": "stdout",
     "output_type": "stream",
     "text": [
      "[[1 0 0 0 0]\n",
      " [1 0 0 0 0]\n",
      " [0 1 0 0 0]\n",
      " [0 0 0 1 0]\n",
      " [1 0 0 0 0]\n",
      " [1 0 0 0 0]\n",
      " [0 1 0 0 0]\n",
      " [0 1 0 0 0]\n",
      " [0 0 0 0 1]\n",
      " [0 0 1 0 0]\n",
      " [0 0 1 0 0]\n",
      " [1 0 0 0 0]\n",
      " [0 0 1 0 0]\n",
      " [0 0 0 0 1]\n",
      " [0 0 0 1 0]\n",
      " [0 0 1 0 0]\n",
      " [0 1 0 0 0]\n",
      " [1 0 0 0 0]\n",
      " [0 0 0 1 0]\n",
      " [0 0 1 0 0]\n",
      " [1 0 0 0 0]\n",
      " [0 0 0 0 1]\n",
      " [0 0 0 1 0]\n",
      " [0 0 0 1 0]\n",
      " [0 0 1 0 0]\n",
      " [0 1 0 0 0]\n",
      " [0 0 0 1 0]\n",
      " [0 0 0 1 0]\n",
      " [0 0 0 1 0]\n",
      " [0 0 0 0 1]]\n",
      "Arnold_Schwarzenegger\n",
      "Arnold_Schwarzenegger\n",
      "Bill_Clinton\n",
      "Ricardo_lagos\n",
      "Arnold_Schwarzenegger\n",
      "Arnold_Schwarzenegger\n",
      "Bill_Clinton\n",
      "Bill_Clinton\n",
      "Vladimir_Putin\n",
      "Carlos_menem\n",
      "Carlos_menem\n",
      "Arnold_Schwarzenegger\n",
      "Carlos_menem\n",
      "Vladimir_Putin\n",
      "Ricardo_lagos\n",
      "Carlos_menem\n",
      "Bill_Clinton\n",
      "Arnold_Schwarzenegger\n",
      "Ricardo_lagos\n",
      "Carlos_menem\n",
      "Arnold_Schwarzenegger\n",
      "Vladimir_Putin\n",
      "Ricardo_lagos\n",
      "Ricardo_lagos\n",
      "Carlos_menem\n",
      "Bill_Clinton\n",
      "Ricardo_lagos\n",
      "Ricardo_lagos\n",
      "Ricardo_lagos\n",
      "Vladimir_Putin\n"
     ]
    }
   ],
   "source": [
    "#Computing predictions on test dataset\n",
    "y_pred = ann.predict(X_test)\n",
    "labels = (y_pred > 0.5).astype(np.int)\n",
    "\n",
    "#Calculating accuracy\n",
    "predictions=np.zeros(shape=())\n",
    "for i in labels:\n",
    "    predictions=np.append(predictions,np.argmax(i))\n",
    "predictions=np.delete(predictions,0)\n",
    "\n",
    "accuracy = np.sum(y_test==predictions)/len(y_test)\n",
    "print(accuracy)"
   ]
  },
  {
   "cell_type": "code",
   "execution_count": 42,
   "metadata": {},
   "outputs": [],
   "source": [
    "#Helper functin to run the encoding through the network to and convert the output into corresponding name\n",
    "def name_helper(enc):\n",
    "    enc=enc.reshape(1,128)\n",
    "    new_pred = ann.predict(enc)\n",
    "    #print(new_pred)\n",
    "    l = (new_pred > 0.24).astype(np.int)\n",
    "    l=l.flatten() \n",
    "    #print(l)\n",
    "    #print(np.argmax(l))\n",
    "    if(np.amax(l)!=0):\n",
    "        print('yay')\n",
    "        name=(label[np.argmax(l)])\n",
    "    else:\n",
    "        print('no')\n",
    "        name=\"random\"\n",
    "    return name\n"
   ]
  },
  {
   "cell_type": "code",
   "execution_count": 36,
   "metadata": {},
   "outputs": [
    {
     "name": "stdout",
     "output_type": "stream",
     "text": [
      "(1, 128)\n",
      "[[0.1689814  0.24921131 0.1845729  0.23146223 0.16577211]]\n",
      "[0 1 0 0 0]\n",
      "1\n",
      "yay\n",
      "Bill_Clinton\n"
     ]
    }
   ],
   "source": [
    "label=['Arnold_Schwarzenegger','Bill_Clinton','Carlos_menem','Ricardo_lagos','Vladimir_Putin']\n",
    "\n",
    "#Testing on a single image\n",
    "path='C:/c_program/face/download.jpg'\n",
    "enc=get_encoding(path)\n",
    "enc=enc.reshape(1,128)\n",
    "#print(enc.shape)\n",
    "name=name_helper(enc)\n",
    "print(name)"
   ]
  },
  {
   "cell_type": "code",
   "execution_count": 43,
   "metadata": {},
   "outputs": [
    {
     "name": "stdout",
     "output_type": "stream",
     "text": [
      "no\n",
      "random\n",
      "no\n",
      "random\n",
      "no\n",
      "random\n",
      "no\n",
      "random\n",
      "no\n",
      "random\n",
      "no\n",
      "random\n"
     ]
    }
   ],
   "source": [
    "#Deploying model on the webcam\n",
    "cap=cv2.VideoCapture(0)\n",
    "while True:\n",
    "    s,img=cap.read()\n",
    "    i=cv2.resize(img,(0,0),None,0.25,0.25)\n",
    "    i=cv2.cvtColor(i,cv2.COLOR_BGR2RGB)\n",
    "    faces=face_recognition.face_locations(i)\n",
    "    encoding=face_recognition.face_encodings(i,faces)\n",
    "    \n",
    "    k= cv2.waitKey(1)\n",
    "    if k == ord('q'):\n",
    "        break\n",
    "    \n",
    "    for encodeface,loc in zip(encoding,faces):\n",
    "        name=name_helper(encodeface)\n",
    "        print(name)\n",
    "        y1,x2,y2,x1=loc\n",
    "        y1,x2,y2,x1=y1*4,x2*4,y2*4,x1*4\n",
    "        cv2.rectangle(img,(x2,y2),(x1,y1),(255,0,0),2)\n",
    "        cv2.rectangle(img,(x1,y2-35),(x2,y2),(255,0,0),cv2.FILLED)\n",
    "        cv2.putText(img,str(name),(x1+6,y2-6),cv2.FONT_HERSHEY_COMPLEX,1,(255,255,255),2)\n",
    "            \n",
    "        cv2.imshow('webcam',img)\n",
    "        cv2.waitKey(1)\n",
    "    \n",
    "cap.release()\n",
    "cv2.destroyAllWindows()\n"
   ]
  },
  {
   "cell_type": "code",
   "execution_count": null,
   "metadata": {},
   "outputs": [],
   "source": []
  }
 ],
 "metadata": {
  "kernelspec": {
   "display_name": "Python 3",
   "language": "python",
   "name": "python3"
  },
  "language_info": {
   "codemirror_mode": {
    "name": "ipython",
    "version": 3
   },
   "file_extension": ".py",
   "mimetype": "text/x-python",
   "name": "python",
   "nbconvert_exporter": "python",
   "pygments_lexer": "ipython3",
   "version": "3.7.8"
  }
 },
 "nbformat": 4,
 "nbformat_minor": 4
}
